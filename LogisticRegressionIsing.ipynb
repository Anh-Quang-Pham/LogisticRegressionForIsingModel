{
 "cells": [
  {
   "cell_type": "code",
   "execution_count": 1,
   "metadata": {},
   "outputs": [],
   "source": [
    "import numpy as np\n",
    "import pandas as pd\n",
    "from sklearn.model_selection import train_test_split\n",
    "from sklearn import preprocessing"
   ]
  },
  {
   "cell_type": "markdown",
   "metadata": {},
   "source": [
    "Use <code>train_test_split</code> to split training set further into training, test or validation set"
   ]
  },
  {
   "cell_type": "code",
   "execution_count": 2,
   "metadata": {},
   "outputs": [],
   "source": [
    "x_train=pd.read_csv('./IsingData/Ising40x40/xtrain.txt',sep='\\s+',header=None,\n",
    "                      skiprows=0,chunksize=2000,dtype=np.int32)\n",
    "x_train=np.array(x_train.get_chunk(2000))\n",
    "x_test=pd.read_csv('./IsingData/Ising40x40/xtest.txt',sep='\\s+',header=None,\n",
    "                   skiprows=0,chunksize=2000,dtype=np.int32)\n",
    "x_test=np.array(x_test.get_chunk(2000))                   "
   ]
  },
  {
   "cell_type": "code",
   "execution_count": 3,
   "metadata": {},
   "outputs": [],
   "source": [
    "y_train=np.loadtxt('./IsingData/Ising40x40/ytrain.txt')\n",
    "y_test=np.loadtxt('./IsingData/Ising40x40/ytest.txt')\n",
    "\n",
    "y_train=y_train[:2000]\n",
    "y_test=y_test[:2000]"
   ]
  },
  {
   "cell_type": "code",
   "execution_count": 4,
   "metadata": {},
   "outputs": [
    {
     "data": {
      "text/plain": [
       "(2000, 1600)"
      ]
     },
     "execution_count": 4,
     "metadata": {},
     "output_type": "execute_result"
    }
   ],
   "source": [
    "x_train.shape"
   ]
  },
  {
   "cell_type": "code",
   "execution_count": 5,
   "metadata": {},
   "outputs": [
    {
     "data": {
      "text/plain": [
       "array([ 1, -1, -1, ...,  1, -1, -1], dtype=int32)"
      ]
     },
     "execution_count": 5,
     "metadata": {},
     "output_type": "execute_result"
    }
   ],
   "source": [
    "x_train[1]"
   ]
  },
  {
   "cell_type": "code",
   "execution_count": 6,
   "metadata": {},
   "outputs": [
    {
     "data": {
      "text/plain": [
       "array([1., 0., 1., 1., 1., 0., 1., 0., 1., 0., 1., 1., 1., 0., 1., 1., 0.,\n",
       "       1., 0., 1., 0., 1., 0., 0., 1., 0., 0., 1., 1., 0., 1., 1., 1., 0.,\n",
       "       0., 0., 0., 0., 0., 0., 0., 1., 1., 1., 0., 1., 0., 0., 1., 0., 1.,\n",
       "       0., 1., 1., 1., 0., 1., 0., 1., 0., 1., 1., 0., 1., 1., 0., 1., 1.,\n",
       "       0., 1., 1., 0., 1., 0., 1., 1., 0., 0., 0., 0., 0., 1., 0., 1., 0.,\n",
       "       0., 0., 0., 1., 0., 1., 1., 1., 1., 0., 0., 1., 1., 0., 0.])"
      ]
     },
     "execution_count": 6,
     "metadata": {},
     "output_type": "execute_result"
    }
   ],
   "source": [
    "y_train[:100]"
   ]
  },
  {
   "cell_type": "code",
   "execution_count": 7,
   "metadata": {},
   "outputs": [
    {
     "data": {
      "image/png": "[encoded data removed]",
      "text/plain": [
       "<Figure size 432x288 with 2 Axes>"
      ]
     },
     "metadata": {
      "needs_background": "light"
     },
     "output_type": "display_data"
    }
   ],
   "source": [
    "# plot Ising states\n",
    "%matplotlib inline\n",
    "import matplotlib.pyplot as plt\n",
    "from mpl_toolkits.axes_grid1 import make_axes_locatable\n",
    "\n",
    "# set colorbar map\n",
    "cmap_args=dict(cmap='plasma_r')\n",
    "\n",
    "L=40\n",
    "\n",
    "fig,axarr=plt.subplots(nrows=1,ncols=2)\n",
    "axarr[0].imshow(x_train[2].reshape(L,L),**cmap_args)\n",
    "axarr[0].set_title('$\\\\mathrm{ordered\\\\ phase}$',fontsize=16)\n",
    "axarr[0].tick_params(labelsize=16)\n",
    "\n",
    "axarr[1].imshow(x_train[1].reshape(L,L),**cmap_args)\n",
    "axarr[1].set_title('$\\\\mathrm{disordered\\\\ phase}$',fontsize=16)\n",
    "axarr[1].tick_params(labelsize=16)\n",
    "\n",
    "fig.subplots_adjust(right=2.0)\n",
    "plt.show()"
   ]
  },
  {
   "cell_type": "code",
   "execution_count": 8,
   "metadata": {},
   "outputs": [
    {
     "name": "stdout",
     "output_type": "stream",
     "text": [
      "xtrain shape is:(1600, 2000)\n",
      "ytrain shape is:(1, 2000)\n",
      "xtest shape is:(1600, 2000)\n",
      "ytest shape is:(1, 2000)\n"
     ]
    }
   ],
   "source": [
    "xtrain=x_train.reshape(x_train.shape[1],x_train.shape[0])\n",
    "ytrain=np.reshape(y_train,(1,y_train.shape[0]))\n",
    "xtest=x_test.reshape(x_test.shape[1],x_test.shape[0])\n",
    "ytest=np.reshape(y_test,(1,y_test.shape[0]))\n",
    "\n",
    "print(\"xtrain shape is:\"+str(xtrain.shape))\n",
    "print(\"ytrain shape is:\"+str(ytrain.shape))\n",
    "print(\"xtest shape is:\"+str(xtest.shape))\n",
    "print(\"ytest shape is:\"+str(ytest.shape))"
   ]
  },
  {
   "cell_type": "markdown",
   "metadata": {},
   "source": [
    "## sigmoid function \n",
    "\n",
    "the variable z can be a scalar of an array (vector, matrix), the returned $s=\\sigma(z)$ will have the data format of input z\n",
    "\n",
    "$\\sigma(z)=\\sigma \\begin{bmatrix}\n",
    "       z_1    \\\\[0.3em]\n",
    "       z_2    \\\\[0.3em]\n",
    "       \\dots  \\\\[0.3em]\n",
    "       z_n\n",
    "     \\end{bmatrix}=\\begin{bmatrix}\n",
    "       \\frac{1}{1+e^{-z_1}}    \\\\[0.3em]\n",
    "       \\frac{1}{1+e^{-z_2}}     \\\\[0.3em]\n",
    "       \\dots  \\\\[0.3em]\n",
    "       \\frac{1}{1+e^{-z_n}} \n",
    "     \\end{bmatrix}$\n",
    "\n"
   ]
  },
  {
   "cell_type": "code",
   "execution_count": 9,
   "metadata": {},
   "outputs": [],
   "source": [
    "def sigmoid(z):\n",
    "    s=1/(1+np.exp(-z))\n",
    "    return s"
   ]
  },
  {
   "cell_type": "code",
   "execution_count": 10,
   "metadata": {},
   "outputs": [],
   "source": [
    "def initializeWithRandn(dim):\n",
    "    w=np.zeros((dim,1))\n",
    "    b=0\n",
    "    \n",
    "    assert(w.shape==(dim,1))\n",
    "    assert(isinstance(b,float) or isinstance(b,int))\n",
    "    \n",
    "    return w,b"
   ]
  },
  {
   "cell_type": "markdown",
   "metadata": {},
   "source": [
    "activations:\n",
    "\n",
    "$A=\\sigma(W^TX+b)$\n",
    "\n",
    "cost function:\n",
    "\n",
    "$J = -\\frac{1}{m}\\sum_{i=1}^my^{(i)}\\log a^{(i)}+(1-y^{(i)})\\log(1-a^{(i)}$\n",
    "\n",
    "gradient to weight:\n",
    "\n",
    "$\\mathrm{d}w:=\\frac{\\partial J}{\\partial W}=\\frac{1}{m}X(A-Y)^T$\n",
    "\n",
    "gradient to bias:\n",
    "\n",
    "$\\mathrm{d}b:=\\frac{\\partial J}{\\partial b}=\\frac{1}{m}\\sum_{i=1}^m(a^{(i)}-y^{(i)})=\\frac{1}{m}\\mathrm{np.sum}(A-Y)$"
   ]
  },
  {
   "cell_type": "code",
   "execution_count": 11,
   "metadata": {},
   "outputs": [],
   "source": [
    "def propagate(w,b,X,Y):\n",
    "    m=X.shape[1]\n",
    "    \n",
    "    # forward propagation (X to cost)\n",
    "    A = sigmoid(np.dot(w.T,X)+b)\n",
    "    cost=-(np.dot(Y,np.log(A.T))+np.dot(np.log(1-A),(1-Y).T))/m\n",
    "    \n",
    "    # backward propagation \n",
    "    dw=np.dot(X,(A-Y).T)/m\n",
    "    db=np.sum(A-Y)/m\n",
    "    \n",
    "    assert(dw.shape==w.shape)\n",
    "    assert(db.dtype==float)\n",
    "    cost=np.squeeze(cost)\n",
    "    assert(cost.shape==())\n",
    "    \n",
    "    grads={\"dw\": dw,\n",
    "           \"db\": db}\n",
    "    \n",
    "    return grads,cost"
   ]
  },
  {
   "cell_type": "code",
   "execution_count": 18,
   "metadata": {},
   "outputs": [],
   "source": [
    "# Gradient descent\n",
    "def optimize(w,b,X,Y,num_iterations,learning_rate,print_cost=False):\n",
    "    costs=[]\n",
    "    for i in range(num_iterations):\n",
    "        grads,cost=propagate(w,b,X,Y) # compute cost, grads\n",
    "        dw=grads[\"dw\"]\n",
    "        db=grads[\"db\"]\n",
    "        \n",
    "        # update\n",
    "        w=w-learning_rate*dw\n",
    "        b=b-learning_rate*db\n",
    "        \n",
    "        # record the costs\n",
    "        if i%100==0:\n",
    "            costs.append(cost)\n",
    "        # print the cost every 100 training examples\n",
    "        if print_cost and i%100==0:\n",
    "            print(\"Cost after iteration %i: %f\" %(i,cost))\n",
    "            \n",
    "    params={\"w\":w,\n",
    "            \"b\":b}\n",
    "    grads={\"dw\":dw,\n",
    "           \"db\":db}\n",
    "        \n",
    "    return params,grads,costs"
   ]
  },
  {
   "cell_type": "code",
   "execution_count": 19,
   "metadata": {},
   "outputs": [],
   "source": [
    "def predict(w,b,X):\n",
    "    m=X.shape[1]\n",
    "    Y_prediction=np.zeros((1,m))\n",
    "    w=w.reshape(X.shape[0],1)\n",
    "    A=sigmoid(np.dot(w.T,X)+b)\n",
    "    \n",
    "    for i in range(A.shape[1]):\n",
    "        # convert probabilities A[0,i] to actual predictions p[0,i]\n",
    "        if A[0,i]<=0.5:\n",
    "            Y_prediction[0,i]=0\n",
    "        else:\n",
    "            Y_prediction[0,i]=1\n",
    "    \n",
    "    assert(Y_prediction.shape==(1,m))\n",
    "    \n",
    "    return Y_prediction"
   ]
  },
  {
   "cell_type": "markdown",
   "metadata": {},
   "source": [
    "We can now use the defined modules to build a logistic regression model"
   ]
  },
  {
   "cell_type": "code",
   "execution_count": 20,
   "metadata": {},
   "outputs": [],
   "source": [
    "# integrate the defined modules into model\n",
    "def model(X_train,Y_train,X_test,Y_test,num_iterations=2000,learning_rate=0.5,print_cost=False):\n",
    "    # initialize parameters\n",
    "    w,b=initializeWithRandn(X_train.shape[0])\n",
    "    # gradient descent\n",
    "    parameters,grads,costs=optimize(w,b,X_train,Y_train,num_iterations,learning_rate,print_cost)\n",
    "    # retrieve parameters w and b from dictionary \"parameters\"\n",
    "    w=parameters[\"w\"]\n",
    "    b=parameters[\"b\"]\n",
    "    # predict test/train set examples\n",
    "    Y_prediction_test=predict(w,b,X_test)\n",
    "    Y_prediction_train=predict(w,b,X_train)\n",
    "    # print train/test errors\n",
    "    print(\"train accuracy: {} %\".format(100-np.mean(np.abs(Y_prediction_train-Y_train))*100))\n",
    "    print(\"test accuracy: {} %\".format(100-np.mean(np.abs(Y_prediction_test-Y_test))*100))\n",
    "    \n",
    "    d={\"costs\":costs,\n",
    "       \"Y_prediction_test\":Y_prediction_test,\n",
    "       \"Y_prediction_train\":Y_prediction_train,\n",
    "       \"w\":w,\n",
    "       \"b\":b,\n",
    "       \"learning_rate\":learning_rate,\n",
    "       \"num_iterations\":num_iterations}\n",
    "    \n",
    "    return d\n",
    "    "
   ]
  },
  {
   "cell_type": "markdown",
   "metadata": {},
   "source": [
    "Let us train the model with 2000 epoches and learning rate 0.01"
   ]
  },
  {
   "cell_type": "code",
   "execution_count": 21,
   "metadata": {},
   "outputs": [
    {
     "name": "stdout",
     "output_type": "stream",
     "text": [
      "Cost after iteration 0: 0.693147\n",
      "Cost after iteration 100: 0.621908\n",
      "Cost after iteration 200: 0.580853\n",
      "Cost after iteration 300: 0.552773\n",
      "Cost after iteration 400: 0.531650\n",
      "Cost after iteration 500: 0.514808\n",
      "Cost after iteration 600: 0.500852\n",
      "Cost after iteration 700: 0.488966\n",
      "Cost after iteration 800: 0.478637\n",
      "Cost after iteration 900: 0.469515\n",
      "Cost after iteration 1000: 0.461359\n",
      "Cost after iteration 1100: 0.453988\n",
      "Cost after iteration 1200: 0.447271\n",
      "Cost after iteration 1300: 0.441102\n",
      "Cost after iteration 1400: 0.435403\n",
      "Cost after iteration 1500: 0.430107\n",
      "Cost after iteration 1600: 0.425163\n",
      "Cost after iteration 1700: 0.420527\n",
      "Cost after iteration 1800: 0.416164\n",
      "Cost after iteration 1900: 0.412044\n",
      "train accuracy: 83.95 %\n",
      "test accuracy: 48.25000000000001 %\n"
     ]
    }
   ],
   "source": [
    "d=model(xtrain,ytrain,xtest,ytest,num_iterations=2000,learning_rate=0.01,print_cost=True)"
   ]
  },
  {
   "cell_type": "markdown",
   "metadata": {},
   "source": [
    "Actually 84% accuracy on our train set is not bad, since we build up our logistic regression from scratch. With tensorflow, and keras one can obtain a better optimization.\n",
    "\n",
    "Let us now try to use tensorflow and keras to improve our accuracy"
   ]
  },
  {
   "cell_type": "code",
   "execution_count": 22,
   "metadata": {},
   "outputs": [],
   "source": [
    "from sklearn import linear_model"
   ]
  },
  {
   "cell_type": "code",
   "execution_count": 23,
   "metadata": {},
   "outputs": [],
   "source": [
    "logreg=linear_model.LogisticRegression(C=1.0/0.1,\n",
    "                                      random_state=1,\n",
    "                                      verbose=0,\n",
    "                                      max_iter=1E3,\n",
    "                                      tol=1E-5,\n",
    "                                      solver='sag')"
   ]
  },
  {
   "cell_type": "code",
   "execution_count": 24,
   "metadata": {},
   "outputs": [
    {
     "name": "stderr",
     "output_type": "stream",
     "text": [
      "/home/phil-configs/Personal/pham/MyEnv/lib/python3.8/site-packages/sklearn/linear_model/_sag.py:328: ConvergenceWarning: The max_iter was reached which means the coef_ did not converge\n",
      "  warnings.warn(\"The max_iter was reached which means \"\n"
     ]
    },
    {
     "data": {
      "text/plain": [
       "LogisticRegression(C=10.0, max_iter=1000.0, random_state=1, solver='sag',\n",
       "                   tol=1e-05)"
      ]
     },
     "execution_count": 24,
     "metadata": {},
     "output_type": "execute_result"
    }
   ],
   "source": [
    "logreg.fit(x_train,y_train)"
   ]
  },
  {
   "cell_type": "code",
   "execution_count": 25,
   "metadata": {},
   "outputs": [
    {
     "data": {
      "text/plain": [
       "0.6825"
      ]
     },
     "execution_count": 25,
     "metadata": {},
     "output_type": "execute_result"
    }
   ],
   "source": [
    "logreg.score(x_test,y_test)"
   ]
  },
  {
   "cell_type": "code",
   "execution_count": 27,
   "metadata": {},
   "outputs": [
    {
     "data": {
      "text/plain": [
       "1.0"
      ]
     },
     "execution_count": 27,
     "metadata": {},
     "output_type": "execute_result"
    }
   ],
   "source": [
    "logreg.score(x_train,y_train)"
   ]
  },
  {
   "cell_type": "code",
   "execution_count": 28,
   "metadata": {},
   "outputs": [],
   "source": [
    "import tensorflow\n",
    "from tensorflow.keras.models import Sequential\n",
    "from tensorflow.keras.layers import Dense\n",
    "from tensorflow.keras.optimizers import SGD, Adam"
   ]
  },
  {
   "cell_type": "code",
   "execution_count": 30,
   "metadata": {},
   "outputs": [],
   "source": [
    "model=Sequential()\n",
    "model.add(Dense(1,activation='sigmoid',input_shape=(1600,)))\n",
    "model.compile(optimizer=SGD(lr=0.01),loss='binary_crossentropy',metrics=['accuracy'])"
   ]
  },
  {
   "cell_type": "code",
   "execution_count": 31,
   "metadata": {},
   "outputs": [
    {
     "name": "stdout",
     "output_type": "stream",
     "text": [
      "Epoch 1/50\n",
      "32/32 [==============================] - 4s 62ms/step - loss: 0.8668 - accuracy: 0.4903 - val_loss: 0.8354 - val_accuracy: 0.5135\n",
      "Epoch 2/50\n",
      "32/32 [==============================] - 0s 2ms/step - loss: 0.8712 - accuracy: 0.5088 - val_loss: 0.8633 - val_accuracy: 0.5075\n",
      "Epoch 3/50\n",
      "32/32 [==============================] - 0s 2ms/step - loss: 0.7607 - accuracy: 0.5690 - val_loss: 0.7900 - val_accuracy: 0.5100\n",
      "Epoch 4/50\n",
      "32/32 [==============================] - 0s 2ms/step - loss: 0.7880 - accuracy: 0.5438 - val_loss: 0.8460 - val_accuracy: 0.5055\n",
      "Epoch 5/50\n",
      "32/32 [==============================] - 0s 2ms/step - loss: 0.7031 - accuracy: 0.5893 - val_loss: 1.0715 - val_accuracy: 0.4955\n",
      "Epoch 6/50\n",
      "32/32 [==============================] - 0s 2ms/step - loss: 0.6780 - accuracy: 0.6047 - val_loss: 0.9701 - val_accuracy: 0.4925\n",
      "Epoch 7/50\n",
      "32/32 [==============================] - 0s 2ms/step - loss: 0.6878 - accuracy: 0.6256 - val_loss: 0.7790 - val_accuracy: 0.4950\n",
      "Epoch 8/50\n",
      "32/32 [==============================] - 0s 2ms/step - loss: 0.6697 - accuracy: 0.6067 - val_loss: 0.7706 - val_accuracy: 0.5050\n",
      "Epoch 9/50\n",
      "32/32 [==============================] - 0s 2ms/step - loss: 0.6226 - accuracy: 0.6370 - val_loss: 1.0877 - val_accuracy: 0.4905\n",
      "Epoch 10/50\n",
      "32/32 [==============================] - 0s 3ms/step - loss: 0.6331 - accuracy: 0.6673 - val_loss: 0.7807 - val_accuracy: 0.4990\n",
      "Epoch 11/50\n",
      "32/32 [==============================] - 0s 2ms/step - loss: 0.5972 - accuracy: 0.6726 - val_loss: 0.8570 - val_accuracy: 0.4930\n",
      "Epoch 12/50\n",
      "32/32 [==============================] - 0s 2ms/step - loss: 0.6278 - accuracy: 0.6613 - val_loss: 0.7864 - val_accuracy: 0.4970\n",
      "Epoch 13/50\n",
      "32/32 [==============================] - 0s 2ms/step - loss: 0.5622 - accuracy: 0.7185 - val_loss: 1.3924 - val_accuracy: 0.4800\n",
      "Epoch 14/50\n",
      "32/32 [==============================] - 0s 2ms/step - loss: 0.5756 - accuracy: 0.7238 - val_loss: 0.7924 - val_accuracy: 0.4925\n",
      "Epoch 15/50\n",
      "32/32 [==============================] - 0s 2ms/step - loss: 0.5664 - accuracy: 0.7046 - val_loss: 0.9812 - val_accuracy: 0.4815\n",
      "Epoch 16/50\n",
      "32/32 [==============================] - 0s 3ms/step - loss: 0.5464 - accuracy: 0.7251 - val_loss: 0.8033 - val_accuracy: 0.4920\n",
      "Epoch 17/50\n",
      "32/32 [==============================] - 0s 2ms/step - loss: 0.5482 - accuracy: 0.7386 - val_loss: 0.9559 - val_accuracy: 0.4765\n",
      "Epoch 18/50\n",
      "32/32 [==============================] - 0s 3ms/step - loss: 0.5333 - accuracy: 0.7046 - val_loss: 0.8481 - val_accuracy: 0.4695\n",
      "Epoch 19/50\n",
      "32/32 [==============================] - 0s 3ms/step - loss: 0.5742 - accuracy: 0.7055 - val_loss: 0.9853 - val_accuracy: 0.4635\n",
      "Epoch 20/50\n",
      "32/32 [==============================] - 0s 3ms/step - loss: 0.5071 - accuracy: 0.8078 - val_loss: 0.8175 - val_accuracy: 0.4875\n",
      "Epoch 21/50\n",
      "32/32 [==============================] - 0s 3ms/step - loss: 0.4973 - accuracy: 0.7836 - val_loss: 0.8313 - val_accuracy: 0.4785\n",
      "Epoch 22/50\n",
      "32/32 [==============================] - 0s 3ms/step - loss: 0.5075 - accuracy: 0.7433 - val_loss: 0.8391 - val_accuracy: 0.4750\n",
      "Epoch 23/50\n",
      "32/32 [==============================] - 0s 2ms/step - loss: 0.4775 - accuracy: 0.7854 - val_loss: 1.1753 - val_accuracy: 0.4670\n",
      "Epoch 24/50\n",
      "32/32 [==============================] - 0s 2ms/step - loss: 0.5551 - accuracy: 0.7061 - val_loss: 0.9231 - val_accuracy: 0.4595\n",
      "Epoch 25/50\n",
      "32/32 [==============================] - 0s 3ms/step - loss: 0.4691 - accuracy: 0.8200 - val_loss: 0.9620 - val_accuracy: 0.4545\n",
      "Epoch 26/50\n",
      "32/32 [==============================] - 0s 3ms/step - loss: 0.4779 - accuracy: 0.8004 - val_loss: 0.8450 - val_accuracy: 0.4945\n",
      "Epoch 27/50\n",
      "32/32 [==============================] - 0s 3ms/step - loss: 0.4518 - accuracy: 0.8086 - val_loss: 0.8313 - val_accuracy: 0.7050\n",
      "Epoch 28/50\n",
      "32/32 [==============================] - 0s 3ms/step - loss: 0.4256 - accuracy: 0.8962 - val_loss: 0.8339 - val_accuracy: 0.7070\n",
      "Epoch 29/50\n",
      "32/32 [==============================] - 0s 3ms/step - loss: 0.4362 - accuracy: 0.8503 - val_loss: 0.8522 - val_accuracy: 0.5230\n",
      "Epoch 30/50\n",
      "32/32 [==============================] - 0s 3ms/step - loss: 0.4371 - accuracy: 0.8488 - val_loss: 0.8461 - val_accuracy: 0.6970\n",
      "Epoch 31/50\n",
      "32/32 [==============================] - 0s 3ms/step - loss: 0.4264 - accuracy: 0.8652 - val_loss: 0.8579 - val_accuracy: 0.6735\n",
      "Epoch 32/50\n",
      "32/32 [==============================] - 0s 3ms/step - loss: 0.4280 - accuracy: 0.8469 - val_loss: 0.8618 - val_accuracy: 0.6875\n",
      "Epoch 33/50\n",
      "32/32 [==============================] - 0s 3ms/step - loss: 0.4131 - accuracy: 0.8880 - val_loss: 0.9980 - val_accuracy: 0.4470\n",
      "Epoch 34/50\n",
      "32/32 [==============================] - 0s 3ms/step - loss: 0.4169 - accuracy: 0.8602 - val_loss: 1.2887 - val_accuracy: 0.4425\n",
      "Epoch 35/50\n",
      "32/32 [==============================] - 0s 3ms/step - loss: 0.4404 - accuracy: 0.8738 - val_loss: 1.0263 - val_accuracy: 0.4515\n",
      "Epoch 36/50\n",
      "32/32 [==============================] - 0s 3ms/step - loss: 0.4384 - accuracy: 0.8203 - val_loss: 1.0337 - val_accuracy: 0.4475\n",
      "Epoch 37/50\n",
      "32/32 [==============================] - 0s 2ms/step - loss: 0.4420 - accuracy: 0.8179 - val_loss: 0.9322 - val_accuracy: 0.4595\n",
      "Epoch 38/50\n",
      "32/32 [==============================] - 0s 2ms/step - loss: 0.4140 - accuracy: 0.8143 - val_loss: 0.9062 - val_accuracy: 0.5045\n",
      "Epoch 39/50\n",
      "32/32 [==============================] - 0s 2ms/step - loss: 0.3842 - accuracy: 0.8758 - val_loss: 0.9645 - val_accuracy: 0.4545\n",
      "Epoch 40/50\n",
      "32/32 [==============================] - 0s 3ms/step - loss: 0.3898 - accuracy: 0.8811 - val_loss: 0.9687 - val_accuracy: 0.4550\n",
      "Epoch 41/50\n",
      "32/32 [==============================] - 0s 2ms/step - loss: 0.4135 - accuracy: 0.8190 - val_loss: 0.9461 - val_accuracy: 0.4700\n",
      "Epoch 42/50\n",
      "32/32 [==============================] - 0s 2ms/step - loss: 0.3649 - accuracy: 0.9061 - val_loss: 1.0650 - val_accuracy: 0.4380\n",
      "Epoch 43/50\n",
      "32/32 [==============================] - 0s 2ms/step - loss: 0.3771 - accuracy: 0.9053 - val_loss: 0.9237 - val_accuracy: 0.6715\n",
      "Epoch 44/50\n",
      "32/32 [==============================] - 0s 2ms/step - loss: 0.3952 - accuracy: 0.8320 - val_loss: 0.9233 - val_accuracy: 0.6840\n",
      "Epoch 45/50\n",
      "32/32 [==============================] - 0s 2ms/step - loss: 0.3704 - accuracy: 0.8957 - val_loss: 0.9932 - val_accuracy: 0.4525\n",
      "Epoch 46/50\n",
      "32/32 [==============================] - 0s 2ms/step - loss: 0.3788 - accuracy: 0.8473 - val_loss: 0.9257 - val_accuracy: 0.6925\n",
      "Epoch 47/50\n",
      "32/32 [==============================] - 0s 3ms/step - loss: 0.3435 - accuracy: 0.9458 - val_loss: 0.9254 - val_accuracy: 0.6995\n",
      "Epoch 48/50\n",
      "32/32 [==============================] - 0s 2ms/step - loss: 0.3440 - accuracy: 0.9251 - val_loss: 0.9995 - val_accuracy: 0.4635\n",
      "Epoch 49/50\n",
      "32/32 [==============================] - 0s 3ms/step - loss: 0.3702 - accuracy: 0.8490 - val_loss: 0.9419 - val_accuracy: 0.6915\n",
      "Epoch 50/50\n",
      "32/32 [==============================] - 0s 3ms/step - loss: 0.3358 - accuracy: 0.9420 - val_loss: 0.9787 - val_accuracy: 0.5015\n"
     ]
    },
    {
     "data": {
      "text/plain": [
       "<tensorflow.python.keras.callbacks.History at 0x7fa8bc0ae280>"
      ]
     },
     "execution_count": 31,
     "metadata": {},
     "output_type": "execute_result"
    }
   ],
   "source": [
    "model.fit(x_train,y_train,validation_data=(x_test,y_test),epochs=50,batch_size=64)"
   ]
  },
  {
   "cell_type": "markdown",
   "metadata": {},
   "source": [
    "Indeed, with keras we obtain a better accuracy for our classification task."
   ]
  },
  {
   "cell_type": "code",
   "execution_count": null,
   "metadata": {},
   "outputs": [],
   "source": []
  }
 ],
 "metadata": {
  "kernelspec": {
   "display_name": "Python 3",
   "language": "python",
   "name": "python3"
  },
  "language_info": {
   "codemirror_mode": {
    "name": "ipython",
    "version": 3
   },
   "file_extension": ".py",
   "mimetype": "text/x-python",
   "name": "python",
   "nbconvert_exporter": "python",
   "pygments_lexer": "ipython3",
   "version": "3.8.5"
  }
 },
 "nbformat": 4,
 "nbformat_minor": 4
}
